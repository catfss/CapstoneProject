{
 "cells": [
  {
   "cell_type": "code",
   "execution_count": 1,
   "metadata": {},
   "outputs": [
    {
     "name": "stdout",
     "output_type": "stream",
     "text": [
      "Libraries imported.\n"
     ]
    }
   ],
   "source": [
    "import numpy as np # library to handle data in a vectorized manner\n",
    "\n",
    "import pandas as pd # library for data analsysis\n",
    "pd.set_option('display.max_columns', None)\n",
    "pd.set_option('display.max_rows', None)\n",
    "\n",
    "import requests # library to handle requests\n",
    "from bs4 import BeautifulSoup\n",
    "\n",
    "print('Libraries imported.')"
   ]
  },
  {
   "cell_type": "markdown",
   "metadata": {},
   "source": [
    "Load the wikipedia page using the `requests` module and convert it to lxml using `BeautifulSoup`"
   ]
  },
  {
   "cell_type": "code",
   "execution_count": 2,
   "metadata": {},
   "outputs": [],
   "source": [
    "page = requests.get('https://en.wikipedia.org/wiki/List_of_postal_codes_of_Canada:_M')\n",
    "contents = page.content\n",
    "soup = BeautifulSoup(contents, 'lxml') #converter para html\n",
    "#print(soup.prettify())"
   ]
  },
  {
   "cell_type": "markdown",
   "metadata": {},
   "source": [
    "Retrieve the wikipedia table, which is of the class *wikitable sortable* and extract the relevant information"
   ]
  },
  {
   "cell_type": "code",
   "execution_count": 3,
   "metadata": {},
   "outputs": [],
   "source": [
    "My_table = soup.find('table',{'class':'wikitable sortable'})\n",
    "links = My_table.findAll('td')\n",
    "nl = str(links).replace('[','').replace(']','').split('\\n</td>, ')\n",
    "\n",
    "#for link in nl: print(link)\n",
    "\n",
    "postalcodes = []\n",
    "boroughs = []\n",
    "neighborhoods = []\n",
    "\n",
    "for i in range(len(nl)):\n",
    "        postalcode = nl[i].split('>')[1].split('<')[0]\n",
    "        postalcodes.append(postalcode)\n",
    "        \n",
    "        if 'title' in nl[i]:\n",
    "            borough = nl[i].split('title=\"')[1].split('\"')[0]\n",
    "            boroughs.append(borough.replace(', Toronto', '').replace(' (Toronto)', '')) # remove unnecessary information\n",
    "        else:\n",
    "            borough = nl[i].split(' <td>')[1].split('<')[0]\n",
    "            boroughs.append(borough)\n",
    "            \n",
    "        string = nl[i].strip('</a>').split('>')[-1] #the neighborhood is the last substring\n",
    "        neighborhood = string if string != 'Not assigned' else borough # if the neighborhood is not assigned, then it should be assigned the borough's name\n",
    "        neighborhoods.append(neighborhood)   "
   ]
  },
  {
   "cell_type": "markdown",
   "metadata": {},
   "source": [
    "Keep only the unique values from the PostalCode and Borough columns and join the unique values from Neighborhood column and assign them to a pandas dataframe"
   ]
  },
  {
   "cell_type": "code",
   "execution_count": 4,
   "metadata": {},
   "outputs": [
    {
     "data": {
      "text/html": [
       "<div>\n",
       "<style scoped>\n",
       "    .dataframe tbody tr th:only-of-type {\n",
       "        vertical-align: middle;\n",
       "    }\n",
       "\n",
       "    .dataframe tbody tr th {\n",
       "        vertical-align: top;\n",
       "    }\n",
       "\n",
       "    .dataframe thead th {\n",
       "        text-align: right;\n",
       "    }\n",
       "</style>\n",
       "<table border=\"1\" class=\"dataframe\">\n",
       "  <thead>\n",
       "    <tr style=\"text-align: right;\">\n",
       "      <th></th>\n",
       "      <th>PostalCode</th>\n",
       "      <th>Borough</th>\n",
       "      <th>Neighborhood</th>\n",
       "    </tr>\n",
       "  </thead>\n",
       "  <tbody>\n",
       "    <tr>\n",
       "      <th>0</th>\n",
       "      <td>M1B</td>\n",
       "      <td>Scarborough</td>\n",
       "      <td>Rouge; Malvern</td>\n",
       "    </tr>\n",
       "    <tr>\n",
       "      <th>1</th>\n",
       "      <td>M1C</td>\n",
       "      <td>Scarborough</td>\n",
       "      <td>Highland Creek; Rouge Hill; Port Union</td>\n",
       "    </tr>\n",
       "    <tr>\n",
       "      <th>2</th>\n",
       "      <td>M1E</td>\n",
       "      <td>Scarborough</td>\n",
       "      <td>Guildwood; Morningside; West Hill</td>\n",
       "    </tr>\n",
       "    <tr>\n",
       "      <th>3</th>\n",
       "      <td>M1G</td>\n",
       "      <td>Scarborough</td>\n",
       "      <td>Woburn</td>\n",
       "    </tr>\n",
       "    <tr>\n",
       "      <th>4</th>\n",
       "      <td>M1H</td>\n",
       "      <td>Scarborough</td>\n",
       "      <td>Cedarbrae</td>\n",
       "    </tr>\n",
       "  </tbody>\n",
       "</table>\n",
       "</div>"
      ],
      "text/plain": [
       "  PostalCode      Borough                            Neighborhood\n",
       "0        M1B  Scarborough                          Rouge; Malvern\n",
       "1        M1C  Scarborough  Highland Creek; Rouge Hill; Port Union\n",
       "2        M1E  Scarborough       Guildwood; Morningside; West Hill\n",
       "3        M1G  Scarborough                                  Woburn\n",
       "4        M1H  Scarborough                               Cedarbrae"
      ]
     },
     "execution_count": 4,
     "metadata": {},
     "output_type": "execute_result"
    }
   ],
   "source": [
    "df = pd.DataFrame({'PostalCode':postalcodes, 'Borough': boroughs, 'Neighborhood':neighborhoods})\n",
    "df = df[df.Borough != 'Not assigned'] #remove rows where the Borough is not assigned\n",
    "# keep only the unique values from the Postal Co\n",
    "canadaPostalCodes = df.groupby(['PostalCode','Borough']).Neighborhood.unique().apply(lambda x: \"%s\" % '; '.join(x)).to_frame().reset_index().sort_values('PostalCode')\n",
    "\n",
    "canadaPostalCodes[canadaPostalCodes.PostalCode == 'M5V']#.values\n",
    "canadaPostalCodes.head()"
   ]
  },
  {
   "cell_type": "markdown",
   "metadata": {},
   "source": [
    "#### Question 1: obtain the shape of the dataframe"
   ]
  },
  {
   "cell_type": "code",
   "execution_count": 5,
   "metadata": {},
   "outputs": [
    {
     "data": {
      "text/plain": [
       "(103, 3)"
      ]
     },
     "execution_count": 5,
     "metadata": {},
     "output_type": "execute_result"
    }
   ],
   "source": [
    "canadaPostalCodes.shape"
   ]
  }
 ],
 "metadata": {
  "kernelspec": {
   "display_name": "Python 3",
   "language": "python",
   "name": "python3"
  },
  "language_info": {
   "codemirror_mode": {
    "name": "ipython",
    "version": 3
   },
   "file_extension": ".py",
   "mimetype": "text/x-python",
   "name": "python",
   "nbconvert_exporter": "python",
   "pygments_lexer": "ipython3",
   "version": "3.6.8"
  }
 },
 "nbformat": 4,
 "nbformat_minor": 2
}
